{
 "cells": [
  {
   "cell_type": "markdown",
   "metadata": {},
   "source": [
    "# Primer Parcial de Python para Ciencias de Datos"
   ]
  },
  {
   "cell_type": "markdown",
   "metadata": {},
   "source": [
    "### 1. Ejercicio de Algoritmia"
   ]
  },
  {
   "cell_type": "markdown",
   "metadata": {},
   "source": [
    "- Definimos una funcion que recibe como argumento una palabra."
   ]
  },
  {
   "cell_type": "markdown",
   "metadata": {},
   "source": [
    "- El argumento pasa por algunas validaciones antes de trabajar con el:\n",
    "  - El argumento debe ser un dato tipo string.\n",
    "  - La cadena de texto debe tener al menos 1 caracter."
   ]
  },
  {
   "cell_type": "markdown",
   "metadata": {},
   "source": [
    "- La funcion retorna la misma palabra pero capitalizada."
   ]
  },
  {
   "cell_type": "code",
   "execution_count": 11,
   "metadata": {},
   "outputs": [],
   "source": [
    "def capitalizar_palabra(palabra):\n",
    "  \n",
    "  if not isinstance(palabra , str):\n",
    "    raise ValueError('El dato de entrada debe ser un dato tipo string')\n",
    "  \n",
    "  if len(palabra) < 1:\n",
    "    raise ValueError('La palabra debe tener al menos 1 caracter')\n",
    "  \n",
    "  return palabra.capitalize()"
   ]
  },
  {
   "cell_type": "code",
   "execution_count": 12,
   "metadata": {},
   "outputs": [
    {
     "name": "stdout",
     "output_type": "stream",
     "text": [
      "Brian\n"
     ]
    }
   ],
   "source": [
    "print(capitalizar_palabra('brian'))"
   ]
  },
  {
   "cell_type": "markdown",
   "metadata": {},
   "source": [
    "### 2. Ejercicio de Pandas"
   ]
  },
  {
   "cell_type": "markdown",
   "metadata": {},
   "source": [
    "- Importación de bibliotecas necesarias"
   ]
  },
  {
   "cell_type": "code",
   "execution_count": 13,
   "metadata": {},
   "outputs": [],
   "source": [
    "import pandas as pd\n",
    "import matplotlib.pyplot as plt"
   ]
  },
  {
   "cell_type": "markdown",
   "metadata": {},
   "source": [
    "- Definimos los productos disponibles al inicio"
   ]
  },
  {
   "cell_type": "code",
   "execution_count": 14,
   "metadata": {},
   "outputs": [],
   "source": [
    "productos = [\n",
    "  {\"nombre\": \"Camisa\", \"precio\": 20, \"cantidad_disponible\":100},\n",
    "  {\"nombre\": \"Panta\", \"precio\": 30, \"cantidad_disponible\": 80},\n",
    "  {\"nombre\": \"Zapatos\", \"precio\": 50, \"cantidad_disponible\": 50},\n",
    "  {\"nombre\": \"Reloj\", \"precio\": 100, \"cantidad_disponible\": 30},\n",
    "  {\"nombre\": \"Gorra\", \"precio\": 15, \"cantidad_disponible\": 120},\n",
    "  {\"nombre\": \"Bufanda\", \"precio\": 25, \"cantidad_disponible\": 60},\n",
    "  {\"nombre\": \"Sudade\", \"precio\": 40, \"cantidad_disponible\": 70},\n",
    "  {\"nombre\": \"Bolsa\", \"precio\": 35, \"cantidad_disponible\": 90},\n",
    "  {\"nombre\": \"Chaqueta\", \"precio\": 80, \"cantidad_disponible\": 40},\n",
    "  {\"nombre\": \"Gafas\", \"precio\": 45, \"cantidad_disponible\":25},\n",
    "  {\"nombre\": \"Calcetin\", \"precio\": 10, \"cantidad_disponible\":150},\n",
    "  {\"nombre\": \"Sombre\", \"precio\": 20, \"cantidad_disponible\": 55},\n",
    "  {\"nombre\": \"Pulsera\", \"precio\": 5, \"cantidad_disponible\": 200},\n",
    "  {\"nombre\": \"Pendien\", \"precio\": 15, \"cantidad_disponible\":180},\n",
    "  {\"nombre\": \"Cinto\", \"precio\": 20, \"cantidad_disponible\":100},\n",
    "  {\"nombre\": \"Vestido\", \"precio\": 60, \"cantidad_disponible\": 35},\n",
    "  {\"nombre\": \"Corbata\", \"precio\": 25, \"cantidad_disponible\": 75},\n",
    "  {\"nombre\": \"Bolso\", \"precio\": 70, \"cantidad_disponible\": 45},\n",
    "  {\"nombre\": \"Paraguas\", \"precio\": 30, \"cantidad_disponible\": 65},\n",
    "  {\"nombre\": \"Collar\", \"precio\": 40, \"cantidad_disponible\": 85},\n",
    "]"
   ]
  },
  {
   "cell_type": "markdown",
   "metadata": {},
   "source": [
    "- Define una funcion que recibe como argumentos los productos disponibles y retorna la misma lista, pero agregando con el valor de inventario para cada producto"
   ]
  },
  {
   "cell_type": "code",
   "execution_count": 15,
   "metadata": {},
   "outputs": [],
   "source": [
    "def calcular_valor_de_inventario_por_producto(productos):\n",
    "  for producto in productos:\n",
    "    value_total = producto['precio'] * producto['cantidad_disponible']\n",
    "    producto.update({\"valor_total\" : value_total})\n",
    "  return productos"
   ]
  },
  {
   "cell_type": "markdown",
   "metadata": {},
   "source": [
    "- Define una función que recibe como argumento la lista de productos con el valor de inventario, simula una compra de un conjunto de productos, y devuelve la lista actualizada de productos disponibles."
   ]
  },
  {
   "cell_type": "code",
   "execution_count": 16,
   "metadata": {},
   "outputs": [],
   "source": [
    "def simulacion_de_ventas(valor_total_por_productos):\n",
    "  final = 0\n",
    "  subtotal = []\n",
    "  print('Un cliente decide comprar 5 Camis, 3 zapatos, 5 Pantes, 1 collar y 1 reloj: ')\n",
    "  for producto in valor_total_por_productos:\n",
    "    if producto['nombre'] == 'Cami':\n",
    "      subtotal.append(producto['precio'] * 5)\n",
    "      producto.update({\"cantidad_disponible\": producto[\"cantidad_disponible\"] - 5})\n",
    "      producto.update({\"valor_total\" : producto[\"precio\"] * producto[\"cantidad_disponible\"]})\n",
    "      print(producto)\n",
    "    if producto['nombre'] == 'Zapatos':\n",
    "      subtotal.append(producto['precio'] * 3)\n",
    "      producto.update({\"cantidad_disponible\": producto[\"cantidad_disponible\"] - 3})\n",
    "      producto.update({\"valor_total\" : producto[\"precio\"] * producto[\"cantidad_disponible\"]})\n",
    "      print(producto)\n",
    "    if producto['nombre'] == 'Pant':\n",
    "      subtotal.append(producto['precio'] * 5)\n",
    "      producto.update({\"cantidad_disponible\": producto[\"cantidad_disponible\"] - 5})\n",
    "      producto.update({\"valor_total\" : producto[\"precio\"] * producto[\"cantidad_disponible\"]})\n",
    "      print(producto)\n",
    "    if producto['nombre'] == 'Collar':\n",
    "      subtotal.append(producto['precio'] * 1)\n",
    "      producto.update({\"cantidad_disponible\": producto[\"cantidad_disponible\"] - 1})\n",
    "      producto.update({\"valor_total\" : producto[\"precio\"] * producto[\"cantidad_disponible\"]})\n",
    "      print(producto)\n",
    "    if producto['nombre'] == 'Reloj':\n",
    "      subtotal.append(producto['precio'] * 1)\n",
    "      producto.update({\"cantidad_disponible\": producto[\"cantidad_disponible\"] - 1})\n",
    "      producto.update({\"valor_total\" : producto[\"precio\"] * producto[\"cantidad_disponible\"]})\n",
    "      print(producto)\n",
    "  print('')\n",
    "  print('El stock acutal es de: ')\n",
    "  print(productos)\n",
    "  for precio in subtotal:\n",
    "    final += precio\n",
    "  print('')\n",
    "  print('El precio final de la compra fue de: $', final)\n",
    "  return productos"
   ]
  },
  {
   "cell_type": "markdown",
   "metadata": {},
   "source": [
    "- Defino una funcion que toma la nueva lista de productos disponibles, crea un DataFrame que tiene dos columnas, nombre de los productos y la cantidad disponible en el stock y retorna este DataFrame."
   ]
  },
  {
   "cell_type": "code",
   "execution_count": 17,
   "metadata": {},
   "outputs": [],
   "source": [
    "def generar_DataFrame(stock_actualizado):\n",
    "  cantidad_de_producto = []\n",
    "  nombre_de_producto = []\n",
    "  for cantidad in stock_actualizado:\n",
    "    cantidad_de_producto.append(cantidad['cantidad_disponible'])\n",
    "    nombre_de_producto.append(cantidad['nombre'])\n",
    "  \n",
    "  df = pd.DataFrame({'Nombre': nombre_de_producto, 'Cantidad disponible': cantidad_de_producto})\n",
    "  return df"
   ]
  },
  {
   "cell_type": "markdown",
   "metadata": {},
   "source": [
    "- Defino una funcon que recibe el DataFrame antes creado y realiza un grafico de barras que compara la cantidad de cada producto disponible"
   ]
  },
  {
   "cell_type": "code",
   "execution_count": 18,
   "metadata": {},
   "outputs": [],
   "source": [
    "def generar_grafico(DataFrame):\n",
    "  plt.bar(DataFrame['Nombre'], DataFrame['Cantidad disponible'])\n",
    "  plt.xlabel('Nombre de producto')\n",
    "  plt.ylabel('Cantidad disponible')\n",
    "  plt.title('Analisis de cantidad de productos')\n",
    "  plt.show()"
   ]
  },
  {
   "cell_type": "markdown",
   "metadata": {},
   "source": [
    "- Una ultima función que sirve para ejecutar todas la funciones antes definidas."
   ]
  },
  {
   "cell_type": "code",
   "execution_count": 19,
   "metadata": {},
   "outputs": [],
   "source": [
    "def ejecutar_programa():\n",
    "  \n",
    "  valor_total_por_producto = calcular_valor_de_inventario_por_producto(productos)\n",
    "  print('')\n",
    "  print('Valor total por producto agregado:')\n",
    "  print(valor_total_por_producto)\n",
    "  print('')\n",
    "  stock_actualizado = simulacion_de_ventas(valor_total_por_producto)\n",
    "  print('')\n",
    "  DataFrame = generar_DataFrame(stock_actualizado)\n",
    "  print('Data Frame creado con exito:')\n",
    "  print(DataFrame)\n",
    "  print('')\n",
    "  generar_grafico(DataFrame)"
   ]
  },
  {
   "cell_type": "markdown",
   "metadata": {},
   "source": [
    "- Condicional que sirve para ejecutar el programa"
   ]
  },
  {
   "cell_type": "code",
   "execution_count": 20,
   "metadata": {},
   "outputs": [
    {
     "name": "stdout",
     "output_type": "stream",
     "text": [
      "\n",
      "Valor total por producto agregado:\n",
      "[{'nombre': 'Camisa', 'precio': 20, 'cantidad_disponible': 100, 'valor_total': 2000}, {'nombre': 'Panta', 'precio': 30, 'cantidad_disponible': 80, 'valor_total': 2400}, {'nombre': 'Zapatos', 'precio': 50, 'cantidad_disponible': 50, 'valor_total': 2500}, {'nombre': 'Reloj', 'precio': 100, 'cantidad_disponible': 30, 'valor_total': 3000}, {'nombre': 'Gorra', 'precio': 15, 'cantidad_disponible': 120, 'valor_total': 1800}, {'nombre': 'Bufanda', 'precio': 25, 'cantidad_disponible': 60, 'valor_total': 1500}, {'nombre': 'Sudade', 'precio': 40, 'cantidad_disponible': 70, 'valor_total': 2800}, {'nombre': 'Bolsa', 'precio': 35, 'cantidad_disponible': 90, 'valor_total': 3150}, {'nombre': 'Chaqueta', 'precio': 80, 'cantidad_disponible': 40, 'valor_total': 3200}, {'nombre': 'Gafas', 'precio': 45, 'cantidad_disponible': 25, 'valor_total': 1125}, {'nombre': 'Calcetin', 'precio': 10, 'cantidad_disponible': 150, 'valor_total': 1500}, {'nombre': 'Sombre', 'precio': 20, 'cantidad_disponible': 55, 'valor_total': 1100}, {'nombre': 'Pulsera', 'precio': 5, 'cantidad_disponible': 200, 'valor_total': 1000}, {'nombre': 'Pendien', 'precio': 15, 'cantidad_disponible': 180, 'valor_total': 2700}, {'nombre': 'Cinto', 'precio': 20, 'cantidad_disponible': 100, 'valor_total': 2000}, {'nombre': 'Vestido', 'precio': 60, 'cantidad_disponible': 35, 'valor_total': 2100}, {'nombre': 'Corbata', 'precio': 25, 'cantidad_disponible': 75, 'valor_total': 1875}, {'nombre': 'Bolso', 'precio': 70, 'cantidad_disponible': 45, 'valor_total': 3150}, {'nombre': 'Paraguas', 'precio': 30, 'cantidad_disponible': 65, 'valor_total': 1950}, {'nombre': 'Collar', 'precio': 40, 'cantidad_disponible': 85, 'valor_total': 3400}]\n",
      "\n",
      "Un cliente decide comprar 5 Camis, 3 zapatos, 5 Pantes, 1 collar y 1 reloj: \n",
      "{'nombre': 'Zapatos', 'precio': 50, 'cantidad_disponible': 47, 'valor_total': 2350}\n",
      "{'nombre': 'Reloj', 'precio': 100, 'cantidad_disponible': 29, 'valor_total': 2900}\n",
      "{'nombre': 'Collar', 'precio': 40, 'cantidad_disponible': 84, 'valor_total': 3360}\n",
      "\n",
      "El stock acutal es de: \n",
      "[{'nombre': 'Camisa', 'precio': 20, 'cantidad_disponible': 100, 'valor_total': 2000}, {'nombre': 'Panta', 'precio': 30, 'cantidad_disponible': 80, 'valor_total': 2400}, {'nombre': 'Zapatos', 'precio': 50, 'cantidad_disponible': 47, 'valor_total': 2350}, {'nombre': 'Reloj', 'precio': 100, 'cantidad_disponible': 29, 'valor_total': 2900}, {'nombre': 'Gorra', 'precio': 15, 'cantidad_disponible': 120, 'valor_total': 1800}, {'nombre': 'Bufanda', 'precio': 25, 'cantidad_disponible': 60, 'valor_total': 1500}, {'nombre': 'Sudade', 'precio': 40, 'cantidad_disponible': 70, 'valor_total': 2800}, {'nombre': 'Bolsa', 'precio': 35, 'cantidad_disponible': 90, 'valor_total': 3150}, {'nombre': 'Chaqueta', 'precio': 80, 'cantidad_disponible': 40, 'valor_total': 3200}, {'nombre': 'Gafas', 'precio': 45, 'cantidad_disponible': 25, 'valor_total': 1125}, {'nombre': 'Calcetin', 'precio': 10, 'cantidad_disponible': 150, 'valor_total': 1500}, {'nombre': 'Sombre', 'precio': 20, 'cantidad_disponible': 55, 'valor_total': 1100}, {'nombre': 'Pulsera', 'precio': 5, 'cantidad_disponible': 200, 'valor_total': 1000}, {'nombre': 'Pendien', 'precio': 15, 'cantidad_disponible': 180, 'valor_total': 2700}, {'nombre': 'Cinto', 'precio': 20, 'cantidad_disponible': 100, 'valor_total': 2000}, {'nombre': 'Vestido', 'precio': 60, 'cantidad_disponible': 35, 'valor_total': 2100}, {'nombre': 'Corbata', 'precio': 25, 'cantidad_disponible': 75, 'valor_total': 1875}, {'nombre': 'Bolso', 'precio': 70, 'cantidad_disponible': 45, 'valor_total': 3150}, {'nombre': 'Paraguas', 'precio': 30, 'cantidad_disponible': 65, 'valor_total': 1950}, {'nombre': 'Collar', 'precio': 40, 'cantidad_disponible': 84, 'valor_total': 3360}]\n",
      "\n",
      "El precio final de la compra fue de: $ 290\n",
      "\n",
      "Data Frame creado con exito:\n",
      "      Nombre  Cantidad disponible\n",
      "0     Camisa                  100\n",
      "1      Panta                   80\n",
      "2    Zapatos                   47\n",
      "3      Reloj                   29\n",
      "4      Gorra                  120\n",
      "5    Bufanda                   60\n",
      "6     Sudade                   70\n",
      "7      Bolsa                   90\n",
      "8   Chaqueta                   40\n",
      "9      Gafas                   25\n",
      "10  Calcetin                  150\n",
      "11    Sombre                   55\n",
      "12   Pulsera                  200\n",
      "13   Pendien                  180\n",
      "14     Cinto                  100\n",
      "15   Vestido                   35\n",
      "16   Corbata                   75\n",
      "17     Bolso                   45\n",
      "18  Paraguas                   65\n",
      "19    Collar                   84\n",
      "\n"
     ]
    },
    {
     "data": {
      "image/png": "[encoded data removed]",
      "text/plain": [
       "<Figure size 640x480 with 1 Axes>"
      ]
     },
     "metadata": {},
     "output_type": "display_data"
    }
   ],
   "source": [
    "\n",
    "if __name__ == '__main__':\n",
    "  ejecutar_programa()"
   ]
  }
 ],
 "metadata": {
  "kernelspec": {
   "display_name": "Python 3",
   "language": "python",
   "name": "python3"
  },
  "language_info": {
   "codemirror_mode": {
    "name": "ipython",
    "version": 3
   },
   "file_extension": ".py",
   "mimetype": "text/x-python",
   "name": "python",
   "nbconvert_exporter": "python",
   "pygments_lexer": "ipython3",
   "version": "3.12.2"
  }
 },
 "nbformat": 4,
 "nbformat_minor": 2
}

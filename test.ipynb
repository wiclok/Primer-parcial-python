{
 "cells": [
  {
   "cell_type": "markdown",
   "metadata": {},
   "source": [
    "# Primer Parcial de Python para Ciencias de Datos"
   ]
  },
  {
   "cell_type": "markdown",
   "metadata": {},
   "source": [
    "### 1. Ejercicio de Algoritmia"
   ]
  },
  {
   "cell_type": "markdown",
   "metadata": {},
   "source": [
    "- Definimos una funcion que recibe como argumento una palabra."
   ]
  },
  {
   "cell_type": "markdown",
   "metadata": {},
   "source": [
    "- El argumento pasa por algunas validaciones antes de trabajar con el:\n",
    "  - El argumento debe ser un dato tipo string.\n",
    "  - La cadena de texto debe tener al menos 1 caracter."
   ]
  },
  {
   "cell_type": "markdown",
   "metadata": {},
   "source": [
    "- La funcion retorna la misma palabra pero capitalizada."
   ]
  },
  {
   "cell_type": "code",
   "execution_count": 4,
   "metadata": {},
   "outputs": [],
   "source": [
    "def capitalizar_palabra(palabra):\n",
    "  \n",
    "  if not isinstance(palabra , str):\n",
    "    raise ValueError('El dato de entrada debe ser un dato tipo string')\n",
    "  \n",
    "  if len(palabra) < 1:\n",
    "    raise ValueError('La palabra debe tener al menos 1 caracter')\n",
    "  \n",
    "  return palabra.capitalize()"
   ]
  },
  {
   "cell_type": "code",
   "execution_count": 5,
   "metadata": {},
   "outputs": [
    {
     "name": "stdout",
     "output_type": "stream",
     "text": [
      "Brian\n"
     ]
    }
   ],
   "source": [
    "print(capitalizar_palabra('brian'))"
   ]
  },
  {
   "cell_type": "markdown",
   "metadata": {},
   "source": [
    "### 2. Ejercicio de Pandas"
   ]
  },
  {
   "cell_type": "markdown",
   "metadata": {},
   "source": [
    "- Importación de bibliotecas necesarias"
   ]
  },
  {
   "cell_type": "code",
   "execution_count": null,
   "metadata": {},
   "outputs": [],
   "source": [
    "import pandas as pd\n",
    "import matplotlib.pyplot as plt"
   ]
  }
 ],
 "metadata": {
  "kernelspec": {
   "display_name": "Python 3",
   "language": "python",
   "name": "python3"
  },
  "language_info": {
   "codemirror_mode": {
    "name": "ipython",
    "version": 3
   },
   "file_extension": ".py",
   "mimetype": "text/x-python",
   "name": "python",
   "nbconvert_exporter": "python",
   "pygments_lexer": "ipython3",
   "version": "3.12.2"
  }
 },
 "nbformat": 4,
 "nbformat_minor": 2
}
